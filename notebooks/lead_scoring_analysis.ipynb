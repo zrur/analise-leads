{
 "cells": [
  {
   "cell_type": "markdown",
   "metadata": {},
   "source": [
    "# 🎯 Lead Scoring Analysis\n",
    "\n",
    "Este notebook apresenta uma análise completa para identificar leads com maior probabilidade de conversão.\n",
    "\n",
    "## 📋 Objetivos\n",
    "1. Analisar padrões de conversão nos dados\n",
    "2. Criar sistema de scoring para priorização\n",
    "3. Desenvolver modelo preditivo\n",
    "4. Identificar leads mais promissores\n",
    "5. Gerar recomendações estratégicas"
   ]
  },
  {
   "cell_type": "code",
   "execution_count": null,
   "metadata": {},
   "outputs": [],
   "source": [
    "# Importar bibliotecas\n",
    "import pandas as pd\n",
    "import numpy as np\n",
    "import matplotlib.pyplot as plt\n",
    "import seaborn as sns\n",
    "from sklearn.ensemble import RandomForestClassifier\n",
    "import warnings\n",
    "warnings.filterwarnings('ignore')\n",
    "\n",
    "# Configurações de visualização\n",
    "plt.style.use('seaborn-v0_8')\n",
    "sns.set_palette('husl')\n",
    "\n",
    "print('📚 Bibliotecas carregadas com sucesso!')"
   ]
  },
  {
   "cell_type": "code",
   "execution_count": null,
   "metadata": {},
   "outputs": [],
   "source": [
    "# Carregar dados\n",
    "df = pd.read_csv('../data/Lead_Scoring.csv')\n",
    "\n",
    "print(f'📊 Dataset carregado:')\n",
    "print(f'   • {df.shape[0]:,} leads')\n",
    "print(f'   • {df.shape[1]} variáveis')\n",
    "print(f'   • Taxa de conversão: {df[\"Converted\"].mean():.1%}')\n",
    "\n",
    "# Preview dos dados\n",
    "df.head()"
   ]
  },
  {
   "cell_type": "markdown",
   "metadata": {},
   "source": [
    "## 🔍 Análise Exploratória\n",
    "\n",
    "Vamos investigar os padrões nos dados para entender o que influencia a conversão."
   ]
  },
  {
   "cell_type": "code",
   "execution_count": null,
   "metadata": {},
   "outputs": [],
   "source": [
    "# Para mais células e análises, execute:\n",
    "# jupyter notebook notebooks/lead_scoring_analysis.ipynb"
   ]
  }
 ],
 "metadata": {
  "kernelspec": {
   "display_name": "Python 3",
   "language": "python",
   "name": "python3"
  },
  "language_info": {
   "codemirror_mode": {
    "name": "ipython",
    "version": 3
   },
   "file_extension": ".py",
   "mimetype": "text/x-python",
   "name": "python",
   "nbconvert_exporter": "python",
   "pygments_lexer": "ipython3",
   "version": "3.8.0"
  }
 },
 "nbformat": 4,
 "nbformat_minor": 4
}
